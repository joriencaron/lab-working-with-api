{
 "cells": [
  {
   "cell_type": "code",
   "execution_count": 1,
   "id": "e837757b",
   "metadata": {},
   "outputs": [
    {
     "name": "stdout",
     "output_type": "stream",
     "text": [
      "········\n"
     ]
    }
   ],
   "source": [
    "import requests\n",
    "import pandas as pd\n",
    "import json\n",
    "import getpass\n",
    "rapidAPIkey = getpass.getpass()"
   ]
  },
  {
   "cell_type": "markdown",
   "id": "e873c07f",
   "metadata": {},
   "source": [
    "## Defining the function"
   ]
  },
  {
   "cell_type": "markdown",
   "id": "0abed337",
   "metadata": {},
   "source": [
    "For this function I chose to compare flights from 'Schiphol' and 'New York John F. Kennedy'. "
   ]
  },
  {
   "cell_type": "code",
   "execution_count": 2,
   "id": "27bf4b16",
   "metadata": {},
   "outputs": [
    {
     "data": {
      "text/plain": [
       "'AMS-sky'"
      ]
     },
     "execution_count": 2,
     "metadata": {},
     "output_type": "execute_result"
    }
   ],
   "source": [
    "def airport_code(airport):\n",
    "    url = \"https://skyscanner-skyscanner-flight-search-v1.p.rapidapi.com/apiservices/autosuggest/v1.0/US/USD/en-US/\"\n",
    "    params = {\"query\":airport}\n",
    "    \n",
    "    headers = {'x-rapidapi-host': \"skyscanner-skyscanner-flight-search-v1.p.rapidapi.com\",\n",
    "           'x-rapidapi-key': rapidAPIkey}\n",
    "    \n",
    "    response = requests.get(url, headers = headers, params = params)\n",
    "    \n",
    "    return response.json()[\"Places\"][0][\"PlaceId\"]\n",
    "\n",
    "airport_code('Schiphol')"
   ]
  },
  {
   "cell_type": "code",
   "execution_count": 3,
   "id": "0ac13802",
   "metadata": {},
   "outputs": [
    {
     "data": {
      "text/plain": [
       "{'Quotes': [{'QuoteId': 1,\n",
       "   'MinPrice': 330,\n",
       "   'Direct': False,\n",
       "   'OutboundLeg': {'CarrierIds': [1218],\n",
       "    'OriginId': 40595,\n",
       "    'DestinationId': 60987,\n",
       "    'DepartureDate': '2021-10-10T00:00:00'},\n",
       "   'QuoteDateTime': '2021-09-14T14:28:00'},\n",
       "  {'QuoteId': 2,\n",
       "   'MinPrice': 367,\n",
       "   'Direct': True,\n",
       "   'OutboundLeg': {'CarrierIds': [1324],\n",
       "    'OriginId': 40595,\n",
       "    'DestinationId': 60987,\n",
       "    'DepartureDate': '2021-10-10T00:00:00'},\n",
       "   'QuoteDateTime': '2021-09-14T14:28:00'}],\n",
       " 'Carriers': [{'CarrierId': 1324, 'Name': 'KLM'},\n",
       "  {'CarrierId': 1218, 'Name': 'Iberia'}],\n",
       " 'Places': [{'Name': 'Amsterdam',\n",
       "   'Type': 'Station',\n",
       "   'PlaceId': 40595,\n",
       "   'IataCode': 'AMS',\n",
       "   'SkyscannerCode': 'AMS',\n",
       "   'CityName': 'Amsterdam',\n",
       "   'CityId': 'AMST',\n",
       "   'CountryName': 'Netherlands'},\n",
       "  {'Name': 'New York John F. Kennedy',\n",
       "   'Type': 'Station',\n",
       "   'PlaceId': 60987,\n",
       "   'IataCode': 'JFK',\n",
       "   'SkyscannerCode': 'JFK',\n",
       "   'CityName': 'New York',\n",
       "   'CityId': 'NYCA',\n",
       "   'CountryName': 'United States'}],\n",
       " 'Currencies': [{'Code': 'USD',\n",
       "   'Symbol': '$',\n",
       "   'ThousandsSeparator': ',',\n",
       "   'DecimalSeparator': '.',\n",
       "   'SymbolOnLeft': True,\n",
       "   'SpaceBetweenAmountAndSymbol': False,\n",
       "   'RoundingCoefficient': 0,\n",
       "   'DecimalDigits': 2}]}"
      ]
     },
     "execution_count": 3,
     "metadata": {},
     "output_type": "execute_result"
    }
   ],
   "source": [
    "def flight_prices(departure, arrival, date):\n",
    "\n",
    "    departure_code = airport_code(departure)\n",
    "    arrival_code = airport_code(arrival)\n",
    "    url = f\"https://skyscanner-skyscanner-flight-search-v1.p.rapidapi.com/apiservices/browsequotes/v1.0/US/USD/en-US/{departure_code}/{arrival_code}/{date}\"\n",
    "\n",
    "    params = {\"inboundpartialdate\":{date}}\n",
    "\n",
    "    headers = {\n",
    "    'x-rapidapi-host': \"skyscanner-skyscanner-flight-search-v1.p.rapidapi.com\",\n",
    "    'x-rapidapi-key': rapidAPIkey}\n",
    "\n",
    "    response = requests.get(url, headers=headers, params=params)\n",
    "\n",
    "    return response.json()\n",
    "\n",
    "flight_prices('Schiphol', 'New York John F. Kennedy', '2021-10-10')"
   ]
  },
  {
   "cell_type": "code",
   "execution_count": 4,
   "id": "0c866d6d",
   "metadata": {},
   "outputs": [],
   "source": [
    "def get_dates(start, end):\n",
    "    return pd.Series(pd.date_range(start, end,freq='d').format())\n",
    "\n",
    "dates = get_dates(\"2021-10-10\", \"2021-10-11\")"
   ]
  },
  {
   "cell_type": "code",
   "execution_count": 5,
   "id": "6c68136e",
   "metadata": {},
   "outputs": [],
   "source": [
    "def flight_days(origin, destination, start, end):\n",
    "    dates = get_dates(start, end)\n",
    "    return {date:flight_prices(origin, destination, date) for date in dates}\n",
    "\n",
    "json = flight_days('Schiphol', 'New York John F. Kennedy', '2021-10-09', '2021-10-10')"
   ]
  },
  {
   "cell_type": "code",
   "execution_count": 6,
   "id": "682df7b2",
   "metadata": {},
   "outputs": [
    {
     "data": {
      "text/html": [
       "<div>\n",
       "<style scoped>\n",
       "    .dataframe tbody tr th:only-of-type {\n",
       "        vertical-align: middle;\n",
       "    }\n",
       "\n",
       "    .dataframe tbody tr th {\n",
       "        vertical-align: top;\n",
       "    }\n",
       "\n",
       "    .dataframe thead th {\n",
       "        text-align: right;\n",
       "    }\n",
       "</style>\n",
       "<table border=\"1\" class=\"dataframe\">\n",
       "  <thead>\n",
       "    <tr style=\"text-align: right;\">\n",
       "      <th></th>\n",
       "      <th>2021-10-09.Quotes</th>\n",
       "      <th>2021-10-09.Carriers</th>\n",
       "      <th>2021-10-09.Places</th>\n",
       "      <th>2021-10-09.Currencies</th>\n",
       "      <th>2021-10-10.Quotes</th>\n",
       "      <th>2021-10-10.Carriers</th>\n",
       "      <th>2021-10-10.Places</th>\n",
       "      <th>2021-10-10.Currencies</th>\n",
       "    </tr>\n",
       "  </thead>\n",
       "  <tbody>\n",
       "    <tr>\n",
       "      <th>0</th>\n",
       "      <td>[{'QuoteId': 1, 'MinPrice': 265, 'Direct': Fal...</td>\n",
       "      <td>[{'CarrierId': 1324, 'Name': 'KLM'}, {'Carrier...</td>\n",
       "      <td>[{'Name': 'Amsterdam', 'Type': 'Station', 'Pla...</td>\n",
       "      <td>[{'Code': 'USD', 'Symbol': '$', 'ThousandsSepa...</td>\n",
       "      <td>[{'QuoteId': 1, 'MinPrice': 330, 'Direct': Fal...</td>\n",
       "      <td>[{'CarrierId': 1324, 'Name': 'KLM'}, {'Carrier...</td>\n",
       "      <td>[{'Name': 'Amsterdam', 'Type': 'Station', 'Pla...</td>\n",
       "      <td>[{'Code': 'USD', 'Symbol': '$', 'ThousandsSepa...</td>\n",
       "    </tr>\n",
       "  </tbody>\n",
       "</table>\n",
       "</div>"
      ],
      "text/plain": [
       "                                   2021-10-09.Quotes  \\\n",
       "0  [{'QuoteId': 1, 'MinPrice': 265, 'Direct': Fal...   \n",
       "\n",
       "                                 2021-10-09.Carriers  \\\n",
       "0  [{'CarrierId': 1324, 'Name': 'KLM'}, {'Carrier...   \n",
       "\n",
       "                                   2021-10-09.Places  \\\n",
       "0  [{'Name': 'Amsterdam', 'Type': 'Station', 'Pla...   \n",
       "\n",
       "                               2021-10-09.Currencies  \\\n",
       "0  [{'Code': 'USD', 'Symbol': '$', 'ThousandsSepa...   \n",
       "\n",
       "                                   2021-10-10.Quotes  \\\n",
       "0  [{'QuoteId': 1, 'MinPrice': 330, 'Direct': Fal...   \n",
       "\n",
       "                                 2021-10-10.Carriers  \\\n",
       "0  [{'CarrierId': 1324, 'Name': 'KLM'}, {'Carrier...   \n",
       "\n",
       "                                   2021-10-10.Places  \\\n",
       "0  [{'Name': 'Amsterdam', 'Type': 'Station', 'Pla...   \n",
       "\n",
       "                               2021-10-10.Currencies  \n",
       "0  [{'Code': 'USD', 'Symbol': '$', 'ThousandsSepa...  "
      ]
     },
     "execution_count": 6,
     "metadata": {},
     "output_type": "execute_result"
    }
   ],
   "source": [
    "pd.json_normalize(json)"
   ]
  },
  {
   "cell_type": "markdown",
   "id": "8eb83caa",
   "metadata": {},
   "source": [
    "### Dataframe for 2021-10-10"
   ]
  },
  {
   "cell_type": "code",
   "execution_count": 7,
   "id": "d697dcd8",
   "metadata": {},
   "outputs": [],
   "source": [
    "quotes_10 = pd.DataFrame(pd.DataFrame(pd.json_normalize(json))[\"2021-10-10.Quotes\"][0])\n",
    "quotes_10 = quotes_10['MinPrice']"
   ]
  },
  {
   "cell_type": "code",
   "execution_count": 8,
   "id": "b0d5e143",
   "metadata": {},
   "outputs": [],
   "source": [
    "airport_10 = pd.DataFrame(pd.DataFrame(pd.json_normalize(json))[\"2021-10-10.Places\"][0])\n",
    "airport_10 = airport_10['Name']"
   ]
  },
  {
   "cell_type": "code",
   "execution_count": 9,
   "id": "d5686bb6",
   "metadata": {},
   "outputs": [],
   "source": [
    "carriers_10 = pd.DataFrame(pd.DataFrame(pd.json_normalize(json))[\"2021-10-10.Carriers\"][0])\n",
    "carriers_10 = carriers_10.rename(columns={'Name':'Carrier'})\n",
    "carriers_10 = carriers_10['Carrier']"
   ]
  },
  {
   "cell_type": "code",
   "execution_count": 10,
   "id": "3759b2ca",
   "metadata": {},
   "outputs": [],
   "source": [
    "flights_10 = pd.concat([quotes_10,airport_10,carriers_10],axis=1)"
   ]
  },
  {
   "cell_type": "code",
   "execution_count": 11,
   "id": "165431b5",
   "metadata": {},
   "outputs": [],
   "source": [
    "flights_10['date'] = '2021-10-10'"
   ]
  },
  {
   "cell_type": "markdown",
   "id": "abeeb149",
   "metadata": {},
   "source": [
    "### Dataframe for 2021-10-09"
   ]
  },
  {
   "cell_type": "code",
   "execution_count": 12,
   "id": "19cfb89b",
   "metadata": {},
   "outputs": [],
   "source": [
    "quotes_09 = pd.DataFrame(pd.DataFrame(pd.json_normalize(json))[\"2021-10-09.Quotes\"][0])\n",
    "quotes_09 = quotes_09['MinPrice']"
   ]
  },
  {
   "cell_type": "code",
   "execution_count": 13,
   "id": "97e8df52",
   "metadata": {},
   "outputs": [],
   "source": [
    "airport_09 = pd.DataFrame(pd.DataFrame(pd.json_normalize(json))[\"2021-10-09.Places\"][0])\n",
    "airport_09 = airport_09['Name']"
   ]
  },
  {
   "cell_type": "code",
   "execution_count": 14,
   "id": "3c1db807",
   "metadata": {},
   "outputs": [],
   "source": [
    "carriers_09 = pd.DataFrame(pd.DataFrame(pd.json_normalize(json))[\"2021-10-09.Carriers\"][0])\n",
    "carriers_09 = carriers_09.rename(columns={'Name':'Carrier'})\n",
    "carriers_09 = carriers_09['Carrier']"
   ]
  },
  {
   "cell_type": "code",
   "execution_count": 15,
   "id": "cc5d0a68",
   "metadata": {},
   "outputs": [],
   "source": [
    "flights_09 = pd.concat([quotes_09,airport_09,carriers_09],axis=1)"
   ]
  },
  {
   "cell_type": "code",
   "execution_count": 16,
   "id": "bbcfc5ed",
   "metadata": {},
   "outputs": [],
   "source": [
    "flights_09['date'] = '2021-10-09'"
   ]
  },
  {
   "cell_type": "markdown",
   "id": "5e96081b",
   "metadata": {},
   "source": [
    "## Final dataframe"
   ]
  },
  {
   "cell_type": "code",
   "execution_count": 17,
   "id": "7ec0f089",
   "metadata": {},
   "outputs": [],
   "source": [
    "flights = pd.concat([flights_09,flights_10],axis=0)"
   ]
  },
  {
   "cell_type": "code",
   "execution_count": 18,
   "id": "24d0cb37",
   "metadata": {},
   "outputs": [
    {
     "data": {
      "text/html": [
       "<div>\n",
       "<style scoped>\n",
       "    .dataframe tbody tr th:only-of-type {\n",
       "        vertical-align: middle;\n",
       "    }\n",
       "\n",
       "    .dataframe tbody tr th {\n",
       "        vertical-align: top;\n",
       "    }\n",
       "\n",
       "    .dataframe thead th {\n",
       "        text-align: right;\n",
       "    }\n",
       "</style>\n",
       "<table border=\"1\" class=\"dataframe\">\n",
       "  <thead>\n",
       "    <tr style=\"text-align: right;\">\n",
       "      <th></th>\n",
       "      <th>MinPrice</th>\n",
       "      <th>Departure</th>\n",
       "      <th>Carrier</th>\n",
       "      <th>date</th>\n",
       "      <th>Arrival</th>\n",
       "    </tr>\n",
       "  </thead>\n",
       "  <tbody>\n",
       "    <tr>\n",
       "      <th>0</th>\n",
       "      <td>265</td>\n",
       "      <td>Amsterdam</td>\n",
       "      <td>KLM</td>\n",
       "      <td>2021-10-09</td>\n",
       "      <td>New York John F. Kennedy</td>\n",
       "    </tr>\n",
       "    <tr>\n",
       "      <th>0</th>\n",
       "      <td>330</td>\n",
       "      <td>Amsterdam</td>\n",
       "      <td>KLM</td>\n",
       "      <td>2021-10-10</td>\n",
       "      <td>New York John F. Kennedy</td>\n",
       "    </tr>\n",
       "  </tbody>\n",
       "</table>\n",
       "</div>"
      ],
      "text/plain": [
       "   MinPrice  Departure Carrier        date                   Arrival\n",
       "0       265  Amsterdam     KLM  2021-10-09  New York John F. Kennedy\n",
       "0       330  Amsterdam     KLM  2021-10-10  New York John F. Kennedy"
      ]
     },
     "execution_count": 18,
     "metadata": {},
     "output_type": "execute_result"
    }
   ],
   "source": [
    "flights = flights[flights['Name']== 'Amsterdam']\n",
    "flights['Arrival'] = 'New York John F. Kennedy'\n",
    "flights = flights.rename(columns={'Name':'Departure'})"
   ]
  },
  {
   "cell_type": "code",
   "execution_count": 19,
   "id": "46f8e105",
   "metadata": {},
   "outputs": [
    {
     "data": {
      "text/html": [
       "<div>\n",
       "<style scoped>\n",
       "    .dataframe tbody tr th:only-of-type {\n",
       "        vertical-align: middle;\n",
       "    }\n",
       "\n",
       "    .dataframe tbody tr th {\n",
       "        vertical-align: top;\n",
       "    }\n",
       "\n",
       "    .dataframe thead th {\n",
       "        text-align: right;\n",
       "    }\n",
       "</style>\n",
       "<table border=\"1\" class=\"dataframe\">\n",
       "  <thead>\n",
       "    <tr style=\"text-align: right;\">\n",
       "      <th></th>\n",
       "      <th>MinPrice</th>\n",
       "      <th>Departure</th>\n",
       "      <th>Arrival</th>\n",
       "      <th>Carrier</th>\n",
       "      <th>date</th>\n",
       "    </tr>\n",
       "  </thead>\n",
       "  <tbody>\n",
       "    <tr>\n",
       "      <th>0</th>\n",
       "      <td>265</td>\n",
       "      <td>Amsterdam</td>\n",
       "      <td>New York John F. Kennedy</td>\n",
       "      <td>KLM</td>\n",
       "      <td>2021-10-09</td>\n",
       "    </tr>\n",
       "    <tr>\n",
       "      <th>0</th>\n",
       "      <td>330</td>\n",
       "      <td>Amsterdam</td>\n",
       "      <td>New York John F. Kennedy</td>\n",
       "      <td>KLM</td>\n",
       "      <td>2021-10-10</td>\n",
       "    </tr>\n",
       "  </tbody>\n",
       "</table>\n",
       "</div>"
      ],
      "text/plain": [
       "   MinPrice  Departure                   Arrival Carrier        date\n",
       "0       265  Amsterdam  New York John F. Kennedy     KLM  2021-10-09\n",
       "0       330  Amsterdam  New York John F. Kennedy     KLM  2021-10-10"
      ]
     },
     "execution_count": 19,
     "metadata": {},
     "output_type": "execute_result"
    }
   ],
   "source": [
    "flights = flights[['MinPrice','Departure','Arrival','Carrier','date']]\n",
    "flights"
   ]
  },
  {
   "cell_type": "code",
   "execution_count": null,
   "id": "77789429",
   "metadata": {},
   "outputs": [],
   "source": []
  }
 ],
 "metadata": {
  "kernelspec": {
   "display_name": "Python 3",
   "language": "python",
   "name": "python3"
  },
  "language_info": {
   "codemirror_mode": {
    "name": "ipython",
    "version": 3
   },
   "file_extension": ".py",
   "mimetype": "text/x-python",
   "name": "python",
   "nbconvert_exporter": "python",
   "pygments_lexer": "ipython3",
   "version": "3.8.8"
  }
 },
 "nbformat": 4,
 "nbformat_minor": 5
}
